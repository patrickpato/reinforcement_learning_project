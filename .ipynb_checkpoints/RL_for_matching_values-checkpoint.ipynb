{
 "cells": [
  {
   "cell_type": "code",
   "execution_count": 2,
   "metadata": {},
   "outputs": [
    {
     "name": "stdout",
     "output_type": "stream",
     "text": [
      "Collecting env\n",
      "  Downloading env-0.1.0.tar.gz (1.8 kB)\n",
      "Building wheels for collected packages: env\n",
      "  Building wheel for env (setup.py) ... \u001b[?25ldone\n",
      "\u001b[?25h  Created wheel for env: filename=env-0.1.0-py3-none-any.whl size=2016 sha256=848a44c1162bfed5b36cfca7d41533d4e318f17d89cbc66ac868a62217233b6f\n",
      "  Stored in directory: /home/ningi/.cache/pip/wheels/f4/f9/cf/4c97adb84015445bb4fab912481fe2ec0506526a6c3a4a5241\n",
      "Successfully built env\n",
      "Installing collected packages: env\n",
      "Successfully installed env-0.1.0\n"
     ]
    }
   ],
   "source": [
    "!pip install env"
   ]
  },
  {
   "cell_type": "code",
   "execution_count": 3,
   "metadata": {
    "colab": {
     "base_uri": "https://localhost:8080/"
    },
    "id": "h-XSnUB-UQnW",
    "outputId": "16124d2a-6a28-466a-feb7-a046209ddd9d"
   },
   "outputs": [
    {
     "name": "stdout",
     "output_type": "stream",
     "text": [
      "WARNING:tensorflow:\r\n",
      "The TensorFlow contrib module will not be included in TensorFlow 2.0.\r\n",
      "For more information, please see:\r\n",
      "  * https://github.com/tensorflow/community/blob/master/rfcs/20180907-contrib-sunset.md\r\n",
      "  * https://github.com/tensorflow/addons\r\n",
      "  * https://github.com/tensorflow/io (for I/O related ops)\r\n",
      "If you depend on functionality not listed there, please file an issue.\r\n",
      "\r\n",
      "Traceback (most recent call last):\r\n",
      "  File \"main.py\", line 21, in <module>\r\n",
      "    from env.GasProdEnv import GasProdEnv\r\n",
      "  File \"/home/ningi/anaconda3/lib/python3.7/site-packages/env.py\", line 51\r\n",
      "    print k\r\n",
      "          ^\r\n",
      "SyntaxError: Missing parentheses in call to 'print'. Did you mean print(k)?\r\n"
     ]
    }
   ],
   "source": [
    "! python main.py"
   ]
  },
  {
   "cell_type": "code",
   "execution_count": null,
   "metadata": {},
   "outputs": [],
   "source": []
  }
 ],
 "metadata": {
  "accelerator": "GPU",
  "colab": {
   "name": "RL_for_matching_values.ipynb",
   "provenance": []
  },
  "kernelspec": {
   "display_name": "Python 3",
   "language": "python",
   "name": "python3"
  },
  "language_info": {
   "codemirror_mode": {
    "name": "ipython",
    "version": 3
   },
   "file_extension": ".py",
   "mimetype": "text/x-python",
   "name": "python",
   "nbconvert_exporter": "python",
   "pygments_lexer": "ipython3",
   "version": "3.6.9"
  }
 },
 "nbformat": 4,
 "nbformat_minor": 1
}
